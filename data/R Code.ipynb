{
 "cells": [
  {
   "cell_type": "code",
   "execution_count": 4,
   "metadata": {
    "collapsed": false
   },
   "outputs": [
    {
     "data": {
      "text/html": [
       "9.89189189189189"
      ],
      "text/latex": [
       "9.89189189189189"
      ],
      "text/markdown": [
       "9.89189189189189"
      ],
      "text/plain": [
       "[1] 9.891892"
      ]
     },
     "execution_count": 4,
     "metadata": {},
     "output_type": "execute_result"
    },
    {
     "data": {
      "text/html": [
       "17.5294117647059"
      ],
      "text/latex": [
       "17.5294117647059"
      ],
      "text/markdown": [
       "17.5294117647059"
      ],
      "text/plain": [
       "[1] 17.52941"
      ]
     },
     "execution_count": 4,
     "metadata": {},
     "output_type": "execute_result"
    },
    {
     "data": {
      "text/plain": [
       "\n",
       "Call:\n",
       "lm(formula = series_age ~ as.factor(age) + season_number + season_number_2 + \n",
       "    ethnicity + gender, data = data)\n",
       "\n",
       "Residuals:\n",
       "    Min      1Q  Median      3Q     Max \n",
       "-29.025  -5.134  -2.546   2.960  56.545 \n",
       "\n",
       "Coefficients:\n",
       "                  Estimate Std. Error t value Pr(>|t|)    \n",
       "(Intercept)        33.2321    10.5360   3.154 0.002016 ** \n",
       "as.factor(age)30   -0.1312     3.0378  -0.043 0.965612    \n",
       "as.factor(age)40    3.0075     3.2617   0.922 0.358265    \n",
       "as.factor(age)50   -0.7820     4.7086  -0.166 0.868359    \n",
       "as.factor(age)60   -1.5162     6.1213  -0.248 0.804771    \n",
       "as.factor(age)70   17.0009     7.5517   2.251 0.026115 *  \n",
       "as.factor(age)80   -1.1874    13.6677  -0.087 0.930907    \n",
       "season_number     -11.4093     3.2794  -3.479 0.000693 ***\n",
       "season_number_2     1.1272     0.4332   2.602 0.010390 *  \n",
       "ethnicityblack      8.0680     9.8206   0.822 0.412904    \n",
       "ethnicityhispanic   1.0390    10.3130   0.101 0.919915    \n",
       "ethnicityindian     1.3557    15.6526   0.087 0.931121    \n",
       "ethnicitywhite      2.3513     9.2712   0.254 0.800211    \n",
       "gendermale         -1.8536     2.4265  -0.764 0.446364    \n",
       "---\n",
       "Signif. codes:  0 '***' 0.001 '**' 0.01 '*' 0.05 '.' 0.1 ' ' 1\n",
       "\n",
       "Residual standard error: 12.31 on 125 degrees of freedom\n",
       "Multiple R-squared:  0.2638,\tAdjusted R-squared:  0.1873 \n",
       "F-statistic: 3.446 on 13 and 125 DF,  p-value: 0.0001429\n"
      ]
     },
     "execution_count": 4,
     "metadata": {},
     "output_type": "execute_result"
    }
   ],
   "source": [
    "data = read.csv('output.csv')\n",
    "\n",
    "data = data[data$age >= 20, ]\n",
    "mean(data$series_age[data$ethnicity == 'white'])\n",
    "mean(data$series_age[data$ethnicity == 'black'])\n",
    "data$season_number_2 = data$season_number ^ 2\n",
    "\n",
    "model = lm(data = data, series_age ~ as.factor(age) + season_number + season_number_2 + ethnicity + gender)\n",
    "summary(model)"
   ]
  },
  {
   "cell_type": "code",
   "execution_count": 3,
   "metadata": {
    "collapsed": false
   },
   "outputs": [
    {
     "data": {
      "text/html": [
       "<table>\n",
       "<thead><tr><th></th><th scope=col>name</th><th scope=col>gender</th><th scope=col>hair</th><th scope=col>age</th><th scope=col>ethnicity</th><th scope=col>status</th><th scope=col>series.lifespan</th><th scope=col>start_episode</th><th scope=col>end_episode</th><th scope=col>series_age</th><th scope=col>season_number</th><th scope=col>episode_name</th></tr></thead>\n",
       "<tbody>\n",
       "\t<tr><th scope=row>1</th><td>Rick Grimes</td><td>male</td><td>dark brown (greying)</td><td>40</td><td>white</td><td>alive</td><td>\"days gone bye\" to present</td><td>days gone bye</td><td>present</td><td>83</td><td>1</td><td>days gone bye</td></tr>\n",
       "\t<tr><th scope=row>4</th><td>Lori Grimes</td><td>female</td><td>brown</td><td>30</td><td>white</td><td>dead</td><td>\"days gone bye\" to \"killer within\"</td><td>days gone bye</td><td>killer within</td><td>23</td><td>1</td><td>days gone bye</td></tr>\n",
       "\t<tr><th scope=row>5</th><td>Shane Walsh</td><td>male</td><td>black</td><td>30</td><td>white</td><td>dead</td><td>\"days gone bye\" to \"better angels\"</td><td>days gone bye</td><td>better angels</td><td>18</td><td>1</td><td>days gone bye</td></tr>\n",
       "\t<tr><th scope=row>6</th><td>Morgan Jones</td><td>male</td><td>black</td><td>40</td><td>black</td><td>alive</td><td>\"days gone bye\" to present</td><td>days gone bye</td><td>present</td><td>83</td><td>1</td><td>days gone bye</td></tr>\n",
       "\t<tr><th scope=row>8</th><td>Theodore Douglas</td><td>male</td><td>black</td><td>30</td><td>black</td><td>dead</td><td>\"guts\" to \"killer within\"</td><td>guts</td><td>killer within</td><td>22</td><td>1</td><td>guts</td></tr>\n",
       "\t<tr><th scope=row>9</th><td>Dale Horvath</td><td>male</td><td>white/gray</td><td>60</td><td>white</td><td>dead</td><td>\"days gone bye\" to \"judge, jury, executioner\"</td><td>days gone bye</td><td>judge, jury, executioner</td><td>17</td><td>1</td><td>days gone bye</td></tr>\n",
       "</tbody>\n",
       "</table>\n"
      ],
      "text/latex": [
       "\\begin{tabular}{r|llllllllllll}\n",
       "  & name & gender & hair & age & ethnicity & status & series.lifespan & start_episode & end_episode & series_age & season_number & episode_name\\\\\n",
       "\\hline\n",
       "\t1 & Rick Grimes & male & dark brown (greying) & 40 & white & alive & \"days gone bye\" to present & days gone bye & present & 83 & 1 & days gone bye\\\\\n",
       "\t4 & Lori Grimes & female & brown & 30 & white & dead & \"days gone bye\" to \"killer within\" & days gone bye & killer within & 23 & 1 & days gone bye\\\\\n",
       "\t5 & Shane Walsh & male & black & 30 & white & dead & \"days gone bye\" to \"better angels\" & days gone bye & better angels & 18 & 1 & days gone bye\\\\\n",
       "\t6 & Morgan Jones & male & black & 40 & black & alive & \"days gone bye\" to present & days gone bye & present & 83 & 1 & days gone bye\\\\\n",
       "\t8 & Theodore Douglas & male & black & 30 & black & dead & \"guts\" to \"killer within\" & guts & killer within & 22 & 1 & guts\\\\\n",
       "\t9 & Dale Horvath & male & white/gray & 60 & white & dead & \"days gone bye\" to \"judge, jury, executioner\" & days gone bye & judge, jury, executioner & 17 & 1 & days gone bye\\\\\n",
       "\\end{tabular}\n"
      ],
      "text/plain": [
       "              name gender                 hair age ethnicity status\n",
       "1      Rick Grimes   male dark brown (greying)  40     white  alive\n",
       "4      Lori Grimes female                brown  30     white   dead\n",
       "5      Shane Walsh   male                black  30     white   dead\n",
       "6     Morgan Jones   male                black  40     black  alive\n",
       "8 Theodore Douglas   male                black  30     black   dead\n",
       "9     Dale Horvath   male           white/gray  60     white   dead\n",
       "                                series.lifespan start_episode\n",
       "1                    \"days gone bye\" to present days gone bye\n",
       "4            \"days gone bye\" to \"killer within\" days gone bye\n",
       "5            \"days gone bye\" to \"better angels\" days gone bye\n",
       "6                    \"days gone bye\" to present days gone bye\n",
       "8                     \"guts\" to \"killer within\"          guts\n",
       "9 \"days gone bye\" to \"judge, jury, executioner\" days gone bye\n",
       "               end_episode series_age season_number  episode_name\n",
       "1                  present         83             1 days gone bye\n",
       "4            killer within         23             1 days gone bye\n",
       "5            better angels         18             1 days gone bye\n",
       "6                  present         83             1 days gone bye\n",
       "8            killer within         22             1          guts\n",
       "9 judge, jury, executioner         17             1 days gone bye"
      ]
     },
     "execution_count": 3,
     "metadata": {},
     "output_type": "execute_result"
    }
   ],
   "source": [
    "head(data)"
   ]
  }
 ],
 "metadata": {
  "kernelspec": {
   "display_name": "R",
   "language": "R",
   "name": "ir"
  },
  "language_info": {
   "codemirror_mode": "r",
   "file_extension": ".r",
   "mimetype": "text/x-r-source",
   "name": "R",
   "pygments_lexer": "r",
   "version": "3.1.3"
  }
 },
 "nbformat": 4,
 "nbformat_minor": 0
}
